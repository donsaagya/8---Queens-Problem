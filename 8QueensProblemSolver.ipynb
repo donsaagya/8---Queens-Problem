{
  "nbformat": 4,
  "nbformat_minor": 0,
  "metadata": {
    "colab": {
      "provenance": []
    },
    "kernelspec": {
      "name": "python3",
      "display_name": "Python 3"
    },
    "language_info": {
      "name": "python"
    }
  },
  "cells": [
    {
      "cell_type": "code",
      "source": [
        "import numpy as np\n",
        "from math import e\n",
        "import random"
      ],
      "metadata": {
        "id": "EIm7uD38Ce5s"
      },
      "execution_count": null,
      "outputs": []
    },
    {
      "cell_type": "code",
      "source": [
        "def check_collision_vertical(chessboard, queen_row, queen_column):\n",
        "  collision_count = 0\n",
        "\n",
        "  #start with assuming given chessboard is a valid solution\n",
        "  valid_solution = True\n",
        "\n",
        "  for current_row in range(len(chessboard)):\n",
        "\n",
        "    if (current_row != queen_row):\n",
        "\n",
        "      if(chessboard[current_row][queen_column] == \"q\" or chessboard[current_row][queen_column] == \"Q\"):\n",
        "        valid_solution = False\n",
        "        collision_count += 1\n",
        "\n",
        "  return valid_solution, collision_count"
      ],
      "metadata": {
        "id": "NVRIliwkW7w4"
      },
      "execution_count": null,
      "outputs": []
    },
    {
      "cell_type": "code",
      "source": [
        "def check_collision_horizontal(chessboard, queen_row, queen_column):\n",
        "  collision_count = 0\n",
        "\n",
        "  #start with assuming given chessboard is a valid solution\n",
        "  valid_solution = True\n",
        "\n",
        "  for current_column in range(len(chessboard)):\n",
        "\n",
        "    if (current_column != queen_column):\n",
        "\n",
        "      if(chessboard[queen_row][current_column] == \"q\" or chessboard[queen_row][current_column] == \"Q\"):\n",
        "        valid_solution = False\n",
        "        collision_count += 1\n",
        "\n",
        "  return valid_solution, collision_count"
      ],
      "metadata": {
        "id": "U_AoMaPoKCCf"
      },
      "execution_count": null,
      "outputs": []
    },
    {
      "cell_type": "code",
      "source": [
        "def check_collision_diagonal(chessboard, queen_row, queen_column):\n",
        "  collision_count = 0\n",
        "  valid_solution = True\n",
        "\n",
        "  #start at queen's position to check diagonally\n",
        "  current_row = queen_row\n",
        "  current_column = queen_column\n",
        "\n",
        "  #checking top left diagonal\n",
        "  while(not(current_row == 0 or current_column == 0)):\n",
        "    current_row -= 1\n",
        "    current_column -= 1\n",
        "\n",
        "    if(chessboard[current_row][current_column] == \"q\" or chessboard[current_row][current_column] == \"Q\"):\n",
        "      collision_count += 1\n",
        "      valid_solution = False\n",
        "\n",
        "  #after reaching edge, set position back to current queen's position\n",
        "  current_row = queen_row\n",
        "  current_column = queen_column\n",
        "\n",
        "  #checking top right diagonal\n",
        "  while(not(current_row == 0 or current_column == 7)):\n",
        "    current_row -= 1\n",
        "    current_column += 1\n",
        "\n",
        "    if(chessboard[current_row][current_column] == \"q\" or chessboard[current_row][current_column] == \"Q\"):\n",
        "      valid_solution = False\n",
        "      collision_count += 1\n",
        "\n",
        "  #after reaching edge, set position back to current queen's position\n",
        "  current_row = queen_row\n",
        "  current_column = queen_column\n",
        "\n",
        "  #checking bottom left diagonal\n",
        "  while(not(current_row == 7 or current_column == 0)):\n",
        "    current_row += 1\n",
        "    current_column -= 1\n",
        "\n",
        "    if(chessboard[current_row][current_column] == \"q\" or chessboard[current_row][current_column] == \"Q\"):\n",
        "      valid_solution = False\n",
        "      collision_count += 1\n",
        "\n",
        "  #after reaching edge, set position back to current queen's position\n",
        "  current_row = queen_row\n",
        "  current_column = queen_column\n",
        "\n",
        "  #checking bottom right diagonal\n",
        "  while(not(current_row == 7 or current_column == 7)):\n",
        "    current_row += 1\n",
        "    current_column += 1\n",
        "\n",
        "    if(chessboard[current_row][current_column] == \"q\" or chessboard[current_row][current_column] == \"Q\"):\n",
        "      valid_solution = False\n",
        "      collision_count += 1\n",
        "\n",
        "  return valid_solution, collision_count"
      ],
      "metadata": {
        "id": "gdAbxjyoNMUR"
      },
      "execution_count": null,
      "outputs": []
    },
    {
      "cell_type": "code",
      "source": [
        "def solution_checker(chessboard):\n",
        "  valid_solution = True\n",
        "  #count of all collisions on given chessboard\n",
        "  board_collisions = 0\n",
        "\n",
        "  for current_row in range(8):\n",
        "    for current_column in range(len(chessboard[current_row])):\n",
        "      if(chessboard[current_row][current_column] == \"Q\" or\n",
        "         chessboard[current_row][current_column] == \"q\"):\n",
        "\n",
        "        #horizontal_check returns whether collision occured and the count of collisions\n",
        "        no_horizontal_collision_detected, horizontal_collision_count = check_collision_horizontal(chessboard, current_row, current_column)\n",
        "\n",
        "        #vertical_check returns whether collision occured and the count of collisions\n",
        "        no_vertical_collision_detected, vertical_collision_count = check_collision_vertical(chessboard, current_row, current_column)\n",
        "\n",
        "        #diagonal_check returns whether collision occured and the count of collisions\n",
        "        no_diagonal_collision_detected, diagonal_collision_count = check_collision_diagonal(chessboard, current_row, current_column)\n",
        "\n",
        "        #if collisions detected anywhere, set accepting condition to reject\n",
        "        if(not(no_horizontal_collision_detected) or not(no_vertical_collision_detected) or not(no_diagonal_collision_detected)):\n",
        "          valid_solution = False\n",
        "\n",
        "        #add up all collisions\n",
        "        board_collisions += (vertical_collision_count + horizontal_collision_count + diagonal_collision_count)\n",
        "\n",
        "  return valid_solution, board_collisions"
      ],
      "metadata": {
        "id": "FWXn1rORQfxb"
      },
      "execution_count": null,
      "outputs": []
    },
    {
      "cell_type": "code",
      "source": [
        "def generate_chessboard(fixed_queen_row, fixed_queen_column):\n",
        "  #set up initial chessboard\n",
        "  chessboard = [\n",
        "    ['.', '.', '.', '.', '.', '.', '.', '.'],\n",
        "    ['.', '.', '.', '.', '.', '.', '.', '.'],\n",
        "    ['.', '.', '.', '.', '.', '.', '.', '.'],\n",
        "    ['.', '.', '.', '.', '.', '.', '.', '.'],\n",
        "    ['.', '.', '.', '.', '.', '.', '.', '.'],\n",
        "    ['.', '.', '.', '.', '.', '.', '.', '.'],\n",
        "    ['.', '.', '.', '.', '.', '.', '.', '.'],\n",
        "    ['.', '.', '.', '.', '.', '.', '.', '.']\n",
        "  ]\n",
        "\n",
        "  #place fixed queen\n",
        "  chessboard[fixed_queen_row][fixed_queen_column] = 'Q'\n",
        "\n",
        "  for row in range(8):\n",
        "    #row starts at 0 and stops after 7\n",
        "\n",
        "    if(row != fixed_queen_row):\n",
        "      #generate a random number between 0 and 7\n",
        "      column = random.randint(0, 7)\n",
        "\n",
        "      #place pieces\n",
        "      chessboard[row][column] = 'q'\n",
        "\n",
        "  return chessboard"
      ],
      "metadata": {
        "id": "6F5uRgAf9KQI"
      },
      "execution_count": null,
      "outputs": []
    },
    {
      "cell_type": "code",
      "source": [
        "def simulated_annealing():\n",
        "  initial_temperature = 100\n",
        "  t_k = initial_temperature\n",
        "  solution_found = False\n",
        "  solution_list = []\n",
        "\n",
        "  #take input of student number to place fixed queen\n",
        "  student_number = input(\"Enter your student number: \")\n",
        "\n",
        "  #slice input number to get last 2 digits\n",
        "  student_number = student_number[len(student_number) - 2 : len(student_number)]\n",
        "  fixed_queen_row = 7 - (int(student_number[1]) % 8)\n",
        "  fixed_queen_column = int(student_number[0]) % 8\n",
        "\n",
        "  #this variable will store the best chessboard found\n",
        "  #for now it is given a random chessboard to start with\n",
        "  best_chessboard = generate_chessboard(fixed_queen_row, fixed_queen_column)\n",
        "\n",
        "  #evaluate the best chessboard\n",
        "  #get whether solution is valid, and collision count\n",
        "  best_chessboard_validity, best_chessboard_collisions = solution_checker(best_chessboard)\n",
        "\n",
        "  #exploring chessboard\n",
        "  exploring_chessboard = best_chessboard\n",
        "\n",
        "  #evaluate the exploring chessboard\n",
        "  #get whether solution is valid, and collision count\n",
        "  exploring_chessboard_validity, exploring_chessboard_collisions = (best_chessboard_validity, best_chessboard_collisions)\n",
        "\n",
        "\n",
        "  #keep generating chessboards to find better solutions\n",
        "  k = 1\n",
        "  while(not(solution_found)):\n",
        "\n",
        "    #looping chessboard variable\n",
        "    looping_chessboard = generate_chessboard(fixed_queen_row, fixed_queen_column)\n",
        "    #evaluate looping chessboard\n",
        "    looping_chessboard_validity, looping_chessboard_collisions = solution_checker(looping_chessboard)\n",
        "\n",
        "    fitness_difference = looping_chessboard_collisions - exploring_chessboard_collisions\n",
        "\n",
        "    #check whether we should accept worse solution to escape local optima\n",
        "    if(fitness_difference <= 0 or random.uniform(0, 1) < np.min([e**((-fitness_difference)/t_k), 1])):\n",
        "\n",
        "      #exploratory chessboard = looping chessboard\n",
        "      exploring_chessboard = looping_chessboard\n",
        "      #evaluation of exploring chessboard = evaluation of looping chessboard\n",
        "      exploring_chessboard_validity, exploring_chessboard_collisions = (looping_chessboard_validity, looping_chessboard_collisions)\n",
        "\n",
        "    #if better solution found, change to best solution\n",
        "    if(looping_chessboard_collisions < best_chessboard_collisions):\n",
        "\n",
        "      best_chessboard = looping_chessboard\n",
        "      best_chessboard_validity, best_chessboard_collisions = (looping_chessboard_validity, looping_chessboard_collisions)\n",
        "\n",
        "      if(best_chessboard_collisions == 0):\n",
        "        solution_found = True\n",
        "\n",
        "        #create text file and put output in it\n",
        "        output_file = open(\"output.txt\", \"a\")\n",
        "        print(f\"fixed_queen_column: {fixed_queen_column + 1}, fixed_queen_row: {fixed_queen_row}\", file = output_file)\n",
        "\n",
        "        for row in range(len(looping_chessboard)):\n",
        "          print(f\"{looping_chessboard[row]}\", file = output_file)\n",
        "\n",
        "        output_file.close()\n",
        "\n",
        "    #change temperature\n",
        "    t_k = (t_k * (np.log(2)/np.log(k+1)))\n",
        "    k += 1\n",
        "\n",
        "  return best_chessboard, solution_list"
      ],
      "metadata": {
        "id": "hLMaLFHqmX9o"
      },
      "execution_count": null,
      "outputs": []
    },
    {
      "cell_type": "code",
      "source": [
        "a_solution = simulated_annealing()"
      ],
      "metadata": {
        "colab": {
          "base_uri": "https://localhost:8080/"
        },
        "id": "i32TGAWu6ish",
        "outputId": "2b01f256-fdf3-4e95-f8b5-1769c0bec149"
      },
      "execution_count": null,
      "outputs": [
        {
          "name": "stdout",
          "output_type": "stream",
          "text": [
            "Enter your student number: 03\n"
          ]
        },
        {
          "output_type": "stream",
          "name": "stderr",
          "text": [
            "<ipython-input-7-269ebb554b33>:43: RuntimeWarning: overflow encountered in scalar divide\n",
            "  if(fitness_difference <= 0 or random.uniform(0, 1) < np.min([e**((-fitness_difference)/t_k), 1])):\n",
            "<ipython-input-7-269ebb554b33>:43: RuntimeWarning: divide by zero encountered in scalar divide\n",
            "  if(fitness_difference <= 0 or random.uniform(0, 1) < np.min([e**((-fitness_difference)/t_k), 1])):\n"
          ]
        },
        {
          "output_type": "stream",
          "name": "stdout",
          "text": [
            "269752\n"
          ]
        }
      ]
    }
  ]
}